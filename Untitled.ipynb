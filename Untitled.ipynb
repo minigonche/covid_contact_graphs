{
 "cells": [
  {
   "cell_type": "code",
   "execution_count": 7,
   "metadata": {},
   "outputs": [],
   "source": [
    "import os, sys\n",
    "import pandas as pd\n",
    "import geopandas as gpd\n",
    "import contextily as ctx\n",
    "from shapely import wkt\n",
    "import matplotlib.pyplot as plt\n",
    "from google.cloud import bigquery\n"
   ]
  },
  {
   "cell_type": "code",
   "execution_count": 3,
   "metadata": {},
   "outputs": [
    {
     "name": "stdout",
     "output_type": "stream",
     "text": [
      "Client creating using default project: grafos-alcaldia-bogota\n"
     ]
    }
   ],
   "source": [
    "client = bigquery.Client(location=\"US\")\n",
    "print(\"Client creating using default project: {}\".format(client.project))"
   ]
  },
  {
   "cell_type": "code",
   "execution_count": 4,
   "metadata": {},
   "outputs": [],
   "source": [
    "query = \"\"\"\n",
    "    SELECT *\n",
    "    FROM grafos-alcaldia-bogota.geo.locations_geometries\n",
    "\"\"\"\n",
    "\n",
    "query_job = client.query(\n",
    "    query,\n",
    "    # Location must match that of the dataset(s) referenced in the query.\n",
    "    location=\"US\",\n",
    ")  # API request - starts the query\n",
    "\n",
    "df = query_job.to_dataframe()"
   ]
  },
  {
   "cell_type": "code",
   "execution_count": 6,
   "metadata": {},
   "outputs": [],
   "source": [
    "df.to_csv(\"pipeline_polygons.csv\", index=False)"
   ]
  },
  {
   "cell_type": "code",
   "execution_count": 10,
   "metadata": {},
   "outputs": [
    {
     "data": {
      "text/html": [
       "<div>\n",
       "<style scoped>\n",
       "    .dataframe tbody tr th:only-of-type {\n",
       "        vertical-align: middle;\n",
       "    }\n",
       "\n",
       "    .dataframe tbody tr th {\n",
       "        vertical-align: top;\n",
       "    }\n",
       "\n",
       "    .dataframe thead th {\n",
       "        text-align: right;\n",
       "    }\n",
       "</style>\n",
       "<table border=\"1\" class=\"dataframe\">\n",
       "  <thead>\n",
       "    <tr style=\"text-align: right;\">\n",
       "      <th></th>\n",
       "      <th>location_id</th>\n",
       "      <th>country</th>\n",
       "      <th>name</th>\n",
       "      <th>geometry</th>\n",
       "      <th>precision</th>\n",
       "      <th>dataset</th>\n",
       "      <th>type</th>\n",
       "      <th>active</th>\n",
       "      <th>attribute_active</th>\n",
       "    </tr>\n",
       "  </thead>\n",
       "  <tbody>\n",
       "    <tr>\n",
       "      <th>7</th>\n",
       "      <td>colombia_bogota_study_1</td>\n",
       "      <td>Colombia</td>\n",
       "      <td>San Victorino</td>\n",
       "      <td>POLYGON((-74.079247161018 4.59832284514317, -7...</td>\n",
       "      <td>50.000000000</td>\n",
       "      <td>edgelists_bogota_study</td>\n",
       "      <td>bogota_study_area</td>\n",
       "      <td>True</td>\n",
       "      <td>True</td>\n",
       "    </tr>\n",
       "    <tr>\n",
       "      <th>8</th>\n",
       "      <td>colombia_bogota_study_2</td>\n",
       "      <td>Colombia</td>\n",
       "      <td>San Andresito de la 38</td>\n",
       "      <td>POLYGON((-74.103280540802 4.61753682342873, -7...</td>\n",
       "      <td>50.000000000</td>\n",
       "      <td>edgelists_bogota_study</td>\n",
       "      <td>bogota_study_area</td>\n",
       "      <td>True</td>\n",
       "      <td>True</td>\n",
       "    </tr>\n",
       "    <tr>\n",
       "      <th>9</th>\n",
       "      <td>colombia_bogota_study_4</td>\n",
       "      <td>Colombia</td>\n",
       "      <td>Zona T</td>\n",
       "      <td>MULTIPOLYGON(((-74.0552401958114 4.67005094481...</td>\n",
       "      <td>50.000000000</td>\n",
       "      <td>edgelists_bogota_study</td>\n",
       "      <td>bogota_study_area</td>\n",
       "      <td>True</td>\n",
       "      <td>True</td>\n",
       "    </tr>\n",
       "    <tr>\n",
       "      <th>10</th>\n",
       "      <td>colombia_bogota_study_3</td>\n",
       "      <td>Colombia</td>\n",
       "      <td>Cielo Abierto Fontibón</td>\n",
       "      <td>MULTIPOLYGON(((-74.1453819093525 4.67342763100...</td>\n",
       "      <td>50.000000000</td>\n",
       "      <td>edgelists_bogota_study</td>\n",
       "      <td>bogota_study_area</td>\n",
       "      <td>True</td>\n",
       "      <td>True</td>\n",
       "    </tr>\n",
       "  </tbody>\n",
       "</table>\n",
       "</div>"
      ],
      "text/plain": [
       "                location_id   country                    name  \\\n",
       "7   colombia_bogota_study_1  Colombia           San Victorino   \n",
       "8   colombia_bogota_study_2  Colombia  San Andresito de la 38   \n",
       "9   colombia_bogota_study_4  Colombia                  Zona T   \n",
       "10  colombia_bogota_study_3  Colombia  Cielo Abierto Fontibón   \n",
       "\n",
       "                                             geometry     precision  \\\n",
       "7   POLYGON((-74.079247161018 4.59832284514317, -7...  50.000000000   \n",
       "8   POLYGON((-74.103280540802 4.61753682342873, -7...  50.000000000   \n",
       "9   MULTIPOLYGON(((-74.0552401958114 4.67005094481...  50.000000000   \n",
       "10  MULTIPOLYGON(((-74.1453819093525 4.67342763100...  50.000000000   \n",
       "\n",
       "                   dataset               type  active  attribute_active  \n",
       "7   edgelists_bogota_study  bogota_study_area    True              True  \n",
       "8   edgelists_bogota_study  bogota_study_area    True              True  \n",
       "9   edgelists_bogota_study  bogota_study_area    True              True  \n",
       "10  edgelists_bogota_study  bogota_study_area    True              True  "
      ]
     },
     "execution_count": 10,
     "metadata": {},
     "output_type": "execute_result"
    }
   ],
   "source": [
    "df_bog = df[df[\"location_id\"].isin([\"colombia_bogota_study_1\", \"colombia_bogota_study_2\", \"colombia_bogota_study_3\", \"colombia_bogota_study_4\"])].copy()\n",
    "df_bog"
   ]
  },
  {
   "cell_type": "code",
   "execution_count": null,
   "metadata": {},
   "outputs": [],
   "source": [
    "df_bog[\"geometry\"] = df_bog.apply(lambda x: wkt.load(x.geometry])"
   ]
  }
 ],
 "metadata": {
  "environment": {
   "name": "common-cpu.m56",
   "type": "gcloud",
   "uri": "gcr.io/deeplearning-platform-release/base-cpu:m56"
  },
  "kernelspec": {
   "display_name": "Python 3",
   "language": "python",
   "name": "python3"
  },
  "language_info": {
   "codemirror_mode": {
    "name": "ipython",
    "version": 3
   },
   "file_extension": ".py",
   "mimetype": "text/x-python",
   "name": "python",
   "nbconvert_exporter": "python",
   "pygments_lexer": "ipython3",
   "version": "3.7.8"
  }
 },
 "nbformat": 4,
 "nbformat_minor": 4
}
