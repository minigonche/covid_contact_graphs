{
 "cells": [
  {
   "cell_type": "code",
   "execution_count": null,
   "metadata": {},
   "outputs": [
    {
     "name": "stdout",
     "output_type": "stream",
     "text": [
      "\n",
      "\n",
      "\n",
      "----------------------------------------------------------------------------------------------------------------------------\n",
      "----------------------------------------------------------------------------------------------------------------------------\n",
      "----------------------------------------------------------------------------------------------------------------------------\n",
      "Time: 2020-07-25 02:25:35.199030\n",
      "Started Update Process\n",
      "--------------------------------------\n",
      "\n",
      "Computing 4 Node Attributes\n",
      "   Coputing node_degree.\n",
      "      Found 0\n",
      "   Coputing pagerank_centrality.\n",
      "      Found 0\n",
      "   Coputing betweenness_centrality.\n",
      "      Found 37\n",
      "         Calculating for colombia_bogota_localidad_los_martires (1 of 37), from: 2020-02-09 00:00:00 to 2020-07-19 02:25:35.199128\n",
      "            2020-02-09 00:00:00: OK.\n",
      "            2020-02-16 00:00:00: OK.\n",
      "            2020-02-23 00:00:00: OK.\n",
      "            2020-03-01 00:00:00: OK.\n",
      "            2020-03-08 00:00:00: Skipped by implementation.\n",
      "            2020-03-15 00:00:00: OK.\n",
      "            2020-03-22 00:00:00: OK.\n",
      "            2020-03-29 00:00:00: OK.\n",
      "            2020-04-05 00:00:00: OK.\n",
      "            2020-04-12 00:00:00: OK.\n",
      "            2020-04-19 00:00:00: OK.\n",
      "            2020-04-26 00:00:00: OK.\n",
      "            2020-05-03 00:00:00: OK.\n",
      "            2020-05-10 00:00:00: OK.\n",
      "            2020-05-17 00:00:00: OK.\n",
      "            2020-05-24 00:00:00: OK.\n",
      "            2020-05-31 00:00:00: OK.\n",
      "            2020-06-07 00:00:00: OK.\n",
      "            2020-06-14 00:00:00: OK.\n",
      "            2020-06-21 00:00:00: OK.\n",
      "            2020-06-28 00:00:00: OK.\n",
      "            2020-07-05 00:00:00: OK.\n",
      "            2020-07-12 00:00:00: OK.\n",
      "            2020-07-19 00:00:00: OK.\n",
      "         Calculating for colombia_bogota_localidad_sumapaz (2 of 37), from: 2020-02-09 00:00:00 to 2020-07-19 02:25:35.199128\n"
     ]
    }
   ],
   "source": [
    "import excecute_attributes_update"
   ]
  },
  {
   "cell_type": "code",
   "execution_count": 2,
   "metadata": {},
   "outputs": [],
   "source": [
    "import igraph as ig\n",
    "\n",
    "\n",
    "# Create the graph\n",
    "G = ig.Graph()\n",
    "\n",
    "# Adds the values\n",
    "G.add_vertices(['a','b','c','d'])\n",
    "\n",
    "\n",
    "#G.add_edges(edges.apply(lambda df: (df.id1, df.id2), axis = 1))\n",
    "\n",
    "# Exctracs the pagerank\n",
    "page_rank = G.pagerank()"
   ]
  },
  {
   "cell_type": "code",
   "execution_count": 3,
   "metadata": {},
   "outputs": [
    {
     "data": {
      "text/plain": [
       "[0.25, 0.25, 0.25, 0.25]"
      ]
     },
     "execution_count": 3,
     "metadata": {},
     "output_type": "execute_result"
    }
   ],
   "source": []
  }
 ],
 "metadata": {
  "environment": {
   "name": "common-cpu.m48",
   "type": "gcloud",
   "uri": "gcr.io/deeplearning-platform-release/base-cpu:m48"
  },
  "kernelspec": {
   "display_name": "Python 3",
   "language": "python",
   "name": "python3"
  },
  "language_info": {
   "codemirror_mode": {
    "name": "ipython",
    "version": 3
   },
   "file_extension": ".py",
   "mimetype": "text/x-python",
   "name": "python",
   "nbconvert_exporter": "python",
   "pygments_lexer": "ipython3",
   "version": "3.7.6"
  }
 },
 "nbformat": 4,
 "nbformat_minor": 4
}
