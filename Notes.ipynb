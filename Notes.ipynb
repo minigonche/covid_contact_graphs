{
 "cells": [
  {
   "cell_type": "code",
   "execution_count": 5,
   "metadata": {},
   "outputs": [],
   "source": [
    "import git\n",
    "import os"
   ]
  },
  {
   "cell_type": "code",
   "execution_count": 12,
   "metadata": {},
   "outputs": [],
   "source": [
    "import pandas as pd\n",
    "from datetime import datetime"
   ]
  },
  {
   "cell_type": "code",
   "execution_count": 42,
   "metadata": {},
   "outputs": [
    {
     "data": {
      "text/plain": [
       "1"
      ]
     },
     "execution_count": 42,
     "metadata": {},
     "output_type": "execute_result"
    }
   ],
   "source": [
    "\n",
    "start_date = pd.to_datetime(\"2021-01-04\")\n",
    "\n",
    "start_date.date().isocalendar()[1]"
   ]
  },
  {
   "cell_type": "code",
   "execution_count": 37,
   "metadata": {},
   "outputs": [
    {
     "data": {
      "text/plain": [
       "0"
      ]
     },
     "execution_count": 37,
     "metadata": {},
     "output_type": "execute_result"
    }
   ],
   "source": [
    "start_date.dayofweek"
   ]
  },
  {
   "cell_type": "code",
   "execution_count": 19,
   "metadata": {},
   "outputs": [
    {
     "name": "stdout",
     "output_type": "stream",
     "text": [
      "2020-01-05 00:00:00\n"
     ]
    }
   ],
   "source": [
    "d = \"2020-W0\"\n",
    "r = pd.to_datetime(datetime.strptime(d + '-0', \"%Y-W%W-%w\")\n",
    "print(r)"
   ]
  },
  {
   "cell_type": "code",
   "execution_count": 44,
   "metadata": {},
   "outputs": [],
   "source": [
    "def get_year_and_week_of_date(d):\n",
    "    '''\n",
    "    Returns the year and week of the year of the given date.\n",
    "    First week is 1\n",
    "    \n",
    "    d is pandas.datetime\n",
    "    \n",
    "    will raise an error if the given date is not a sunday\n",
    "    '''\n",
    "    \n",
    "    if d.dayofweek != 6:\n",
    "        raise ValueError('Extraction of week is only supported for sundays. But received: {}'.format(d))\n",
    "    \n",
    "    \n",
    "    return(d.date().year,  d.date().isocalendar()[1])\n",
    "\n",
    "\n",
    "def get_date_of_week(year, week):\n",
    "    '''\n",
    "    Returns the year and week of the year of the given date.\n",
    "    \n",
    "    Assumes first week is 1\n",
    "    \n",
    "    d is pandas.datetime\n",
    "    '''\n",
    "    \n",
    "    if week <= 0:\n",
    "        raise ValueError(\"Min week is 1, but {} received\".format(week))\n",
    "    if week > 53:\n",
    "        raise ValueError(\"Min week is 53, but {} received\".format(week))\n",
    "        \n",
    "    d = f\"{year}-W{week -1}\"\n",
    "    r = pd.to_datetime(datetime.strptime(d + '-0', \"%Y-W%W-%w\"))\n",
    "    \n",
    "    return(r)"
   ]
  },
  {
   "cell_type": "code",
   "execution_count": 46,
   "metadata": {},
   "outputs": [
    {
     "data": {
      "text/plain": [
       "(2020, 29)"
      ]
     },
     "execution_count": 46,
     "metadata": {},
     "output_type": "execute_result"
    }
   ],
   "source": [
    "get_year_and_week_of_date(pd.to_datetime(\"2020-07-19\"))"
   ]
  },
  {
   "cell_type": "code",
   "execution_count": 47,
   "metadata": {},
   "outputs": [
    {
     "data": {
      "text/plain": [
       "Timestamp('2020-07-19 00:00:00')"
      ]
     },
     "execution_count": 47,
     "metadata": {},
     "output_type": "execute_result"
    }
   ],
   "source": [
    "get_date_of_week(2020, 29)"
   ]
  },
  {
   "cell_type": "code",
   "execution_count": null,
   "metadata": {},
   "outputs": [],
   "source": []
  }
 ],
 "metadata": {
  "environment": {
   "name": "common-cpu.m48",
   "type": "gcloud",
   "uri": "gcr.io/deeplearning-platform-release/base-cpu:m48"
  },
  "kernelspec": {
   "display_name": "Python 3",
   "language": "python",
   "name": "python3"
  },
  "language_info": {
   "codemirror_mode": {
    "name": "ipython",
    "version": 3
   },
   "file_extension": ".py",
   "mimetype": "text/x-python",
   "name": "python",
   "nbconvert_exporter": "python",
   "pygments_lexer": "ipython3",
   "version": "3.7.6"
  }
 },
 "nbformat": 4,
 "nbformat_minor": 4
}
