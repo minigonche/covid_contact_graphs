{
 "cells": [
  {
   "cell_type": "code",
   "execution_count": 24,
   "metadata": {},
   "outputs": [
    {
     "name": "stderr",
     "output_type": "stream",
     "text": [
      "Calculating best minimal value for power law fit\n"
     ]
    },
    {
     "name": "stdout",
     "output_type": "stream",
     "text": [
      "29.420751435889255\n",
      "0.9290895515817758\n"
     ]
    }
   ],
   "source": [
    "import powerlaw as pw\n",
    "from scipy.stats import powerlaw\n",
    "from scipy import stats\n",
    "import numpy as np\n",
    "data = np.array([1,2,3,4,5,6,7,8,9,10,11,12,13,14,15,16,17,18,19]) # data can be list or numpy array\n",
    "a = 2.1\n",
    "data = powerlaw.rvs(a, size=1000)\n",
    "results = pw.Fit(data)\n",
    "print(results.power_law.alpha)\n",
    "print(results.power_law.xmin)\n",
    "R, p = results.distribution_compare('power_law', 'lognormal')\n",
    "\n"
   ]
  },
  {
   "cell_type": "code",
   "execution_count": 21,
   "metadata": {},
   "outputs": [
    {
     "name": "stdout",
     "output_type": "stream",
     "text": [
      "0\n",
      "1\n",
      "2\n",
      "3\n",
      "4\n",
      "5\n",
      "6\n",
      "7\n",
      "8\n",
      "9\n",
      "10\n",
      "11\n",
      "12\n",
      "13\n",
      "14\n",
      "15\n",
      "16\n",
      "17\n",
      "18\n",
      "19\n",
      "20\n",
      "21\n",
      "22\n",
      "23\n",
      "24\n",
      "25\n",
      "26\n",
      "27\n",
      "28\n",
      "29\n",
      "30\n",
      "31\n",
      "32\n",
      "33\n",
      "34\n",
      "35\n",
      "36\n",
      "37\n",
      "38\n",
      "39\n",
      "40\n",
      "41\n",
      "42\n",
      "43\n",
      "44\n",
      "45\n",
      "46\n",
      "47\n",
      "48\n",
      "49\n",
      "50\n",
      "51\n",
      "52\n",
      "53\n",
      "54\n",
      "55\n",
      "56\n",
      "57\n",
      "58\n",
      "59\n",
      "60\n",
      "61\n",
      "62\n",
      "63\n",
      "64\n",
      "65\n",
      "66\n",
      "67\n",
      "68\n",
      "69\n",
      "70\n",
      "71\n",
      "72\n",
      "73\n",
      "74\n",
      "75\n",
      "76\n",
      "77\n",
      "78\n",
      "79\n",
      "80\n",
      "81\n",
      "82\n",
      "83\n",
      "84\n",
      "85\n",
      "86\n",
      "87\n",
      "88\n",
      "89\n",
      "90\n",
      "91\n",
      "92\n",
      "93\n",
      "94\n",
      "95\n",
      "96\n",
      "97\n",
      "98\n",
      "99\n",
      "[499999, 499999, 499999, 499999, 499999, 499999, 499999, 499999, 499999, 499999, 499999, 499999, 499999, 499999, 499999, 499999, 499999, 499999, 499999, 499999, 499999, 499999, 499999, 499999, 499999, 499999, 499999, 499999, 499999, 499999, 499999, 499999, 499999, 499999, 499999, 499999, 499999, 499999, 499999, 499999, 499999, 499999, 499999, 499999, 499999, 499999, 499999, 499999, 499999, 499999, 499999, 499999, 499999, 499999, 499999, 499999, 499999, 499999, 499999, 499999, 499999, 499999, 499999, 499999, 499999, 499999, 499999, 499999, 499999, 499999, 499999, 499999, 499999, 499999, 499999, 499999, 499999, 499999, 499999, 499999, 499999, 499999, 499999, 499999, 499999, 499999, 499999, 499999, 499999, 499999, 499999, 499999, 499999, 499999, 499999, 499999, 499999, 499999, 499999, 499999]\n",
      "30.67590641975403\n",
      "Results (pool):\n",
      " [24999950, 24999950]\n",
      "31.07324481010437\n"
     ]
    }
   ],
   "source": [
    "import numpy as np\n",
    "import time\n",
    "from multiprocessing import Pool, RawArray\n",
    "\n",
    "# A global dictionary storing the variables passed from the initializer.\n",
    "var_dict = {}\n",
    "\n",
    "def init_worker(X, X_shape):\n",
    "    # Using a dictionary is not strictly necessary. You can also\n",
    "    # use global variables.\n",
    "    var_dict['X'] = X\n",
    "    var_dict['X_shape'] = X_shape\n",
    "\n",
    "def worker_func(indices):\n",
    "    # Simply computes the sum of the i-th row of the input matrix X\n",
    "    X_np = np.frombuffer(var_dict['X']).reshape(var_dict['X_shape'])\n",
    "    res = 0\n",
    "    for i in indices:\n",
    "        for t in X_np[0,:]:\n",
    "            if t < 0:\n",
    "                res += 1\n",
    "    \n",
    "    return(res)\n",
    "\n",
    "def worker_func_non(data, i):\n",
    "    # Simply computes the sum of the i-th row of the input matrix X\n",
    "    X_np = data\n",
    "    res = 0\n",
    "    for t in X_np[0,:]:\n",
    "        if t < 0:\n",
    "            res += 1\n",
    "    \n",
    "    return(res)\n",
    "\n",
    "# We need this check for Windows to prevent infinitely spawning new child\n",
    "# processes.\n",
    "if __name__ == '__main__':\n",
    "        \n",
    "    X_shape = (2, 1000000)\n",
    "    # Randomly generate some data\n",
    "    data = np.random.randn(*X_shape)\n",
    "    \n",
    "    X = RawArray('d', X_shape[0] * X_shape[1])\n",
    "    # Wrap X as an numpy array so we can easily manipulates its data.\n",
    "    X_np = np.frombuffer(X).reshape(X_shape)\n",
    "    # Copy data to our shared array.\n",
    "    np.copyto(X_np, data)\n",
    "    # Start the process pool and do the computation.\n",
    "    # Here we pass X and X_shape to the initializer of each worker.\n",
    "    # (Because X_shape is not a shared variable, it will be copied to each\n",
    "    # child process.)\n",
    "    \n",
    "    num_process = 2\n",
    "    \n",
    "    max_ite = 100\n",
    "\n",
    "    groups = [[j for j in range(int(max_ite/num_process)) ] for k in range(num_process)]\n",
    "    \n",
    "    start = time.time()\n",
    "    \n",
    "    result = []\n",
    "    for i in range(max_ite):\n",
    "        print(i)\n",
    "        result.append(worker_func_non(data, i))\n",
    "    \n",
    "    print(result)\n",
    "    print(time.time() - start)\n",
    "    \n",
    "    start = time.time()\n",
    "    \n",
    "    with Pool(processes=num_process, initializer=init_worker, initargs=(X, X_shape)) as pool:\n",
    "        result = pool.map(worker_func, groups)\n",
    "        print('Results (pool):\\n', result)\n",
    "    \n",
    "    print(time.time() - start)\n",
    "\n",
    "    \n"
   ]
  },
  {
   "cell_type": "code",
   "execution_count": 16,
   "metadata": {},
   "outputs": [
    {
     "data": {
      "text/plain": [
       "[[0, 1, 2, 3, 4, 5, 6, 7], [8, 9, 10, 11, 12, 13, 14, 15]]"
      ]
     },
     "execution_count": 16,
     "metadata": {},
     "output_type": "execute_result"
    }
   ],
   "source": [
    "groups = [[k for k in range(k*step, k*step + step)] for k in range(num_process)]\n",
    "groups"
   ]
  },
  {
   "cell_type": "code",
   "execution_count": 5,
   "metadata": {},
   "outputs": [],
   "source": [
    "num_process = 8\n",
    "rows = 64"
   ]
  },
  {
   "cell_type": "code",
   "execution_count": 11,
   "metadata": {},
   "outputs": [
    {
     "data": {
      "text/plain": [
       "[[0, 1, 2, 3, 4, 5, 6, 7],\n",
       " [8, 9, 10, 11, 12, 13, 14, 15],\n",
       " [16, 17, 18, 19, 20, 21, 22, 23],\n",
       " [24, 25, 26, 27, 28, 29, 30, 31],\n",
       " [32, 33, 34, 35, 36, 37, 38, 39],\n",
       " [40, 41, 42, 43, 44, 45, 46, 47],\n",
       " [48, 49, 50, 51, 52, 53, 54, 55],\n",
       " [56, 57, 58, 59, 60, 61, 62, 63]]"
      ]
     },
     "execution_count": 11,
     "metadata": {},
     "output_type": "execute_result"
    }
   ],
   "source": [
    "step = int(rows/num_process)\n",
    "\n",
    "groups = [[k for k in range(k*step, k*step + step)] for k in range(step)]\n",
    "groups\n"
   ]
  },
  {
   "cell_type": "code",
   "execution_count": 93,
   "metadata": {},
   "outputs": [
    {
     "name": "stdout",
     "output_type": "stream",
     "text": [
      "Exponential\n",
      "KstestResult(statistic=0.4068461357297948, pvalue=0.0)\n",
      "norm\n",
      "KstestResult(statistic=0.12126498426049126, pvalue=3.743836657480532e-128)\n",
      "lognorm\n",
      "KstestResult(statistic=0.13662353324723636, pvalue=1.4801382660533396e-162)\n",
      "powerlaw\n"
     ]
    },
    {
     "ename": "TypeError",
     "evalue": "Unknown arguments: {'N': 100}.",
     "output_type": "error",
     "traceback": [
      "\u001b[0;31m---------------------------------------------------------------------------\u001b[0m",
      "\u001b[0;31mTypeError\u001b[0m                                 Traceback (most recent call last)",
      "\u001b[0;32m<ipython-input-93-64867f7718a2>\u001b[0m in \u001b[0;36m<module>\u001b[0;34m\u001b[0m\n\u001b[1;32m     28\u001b[0m \u001b[0;31m# Powerlaw\u001b[0m\u001b[0;34m\u001b[0m\u001b[0;34m\u001b[0m\u001b[0;34m\u001b[0m\u001b[0m\n\u001b[1;32m     29\u001b[0m \u001b[0mprint\u001b[0m\u001b[0;34m(\u001b[0m\u001b[0;34m'powerlaw'\u001b[0m\u001b[0;34m)\u001b[0m\u001b[0;34m\u001b[0m\u001b[0;34m\u001b[0m\u001b[0m\n\u001b[0;32m---> 30\u001b[0;31m \u001b[0mparams\u001b[0m \u001b[0;34m=\u001b[0m \u001b[0mpowerlaw\u001b[0m\u001b[0;34m.\u001b[0m\u001b[0mfit\u001b[0m\u001b[0;34m(\u001b[0m\u001b[0mdata\u001b[0m\u001b[0;34m,\u001b[0m \u001b[0mN\u001b[0m \u001b[0;34m=\u001b[0m \u001b[0;36m100\u001b[0m\u001b[0;34m)\u001b[0m\u001b[0;34m\u001b[0m\u001b[0;34m\u001b[0m\u001b[0m\n\u001b[0m\u001b[1;32m     31\u001b[0m \u001b[0mprint\u001b[0m\u001b[0;34m(\u001b[0m\u001b[0mstats\u001b[0m\u001b[0;34m.\u001b[0m\u001b[0mkstest\u001b[0m\u001b[0;34m(\u001b[0m\u001b[0mdata\u001b[0m\u001b[0;34m,\u001b[0m\u001b[0;34m\"powerlaw\"\u001b[0m\u001b[0;34m,\u001b[0m\u001b[0margs\u001b[0m\u001b[0;34m=\u001b[0m\u001b[0mparams\u001b[0m\u001b[0;34m,\u001b[0m \u001b[0mN\u001b[0m \u001b[0;34m=\u001b[0m \u001b[0;36m1000\u001b[0m\u001b[0;34m)\u001b[0m\u001b[0;34m)\u001b[0m\u001b[0;34m\u001b[0m\u001b[0;34m\u001b[0m\u001b[0m\n",
      "\u001b[0;32m/opt/conda/lib/python3.7/site-packages/scipy/stats/_distn_infrastructure.py\u001b[0m in \u001b[0;36mfit\u001b[0;34m(self, data, *args, **kwds)\u001b[0m\n\u001b[1;32m   2306\u001b[0m         \u001b[0;31m# by now kwds must be empty, since everybody took what they needed\u001b[0m\u001b[0;34m\u001b[0m\u001b[0;34m\u001b[0m\u001b[0;34m\u001b[0m\u001b[0m\n\u001b[1;32m   2307\u001b[0m         \u001b[0;32mif\u001b[0m \u001b[0mkwds\u001b[0m\u001b[0;34m:\u001b[0m\u001b[0;34m\u001b[0m\u001b[0;34m\u001b[0m\u001b[0m\n\u001b[0;32m-> 2308\u001b[0;31m             \u001b[0;32mraise\u001b[0m \u001b[0mTypeError\u001b[0m\u001b[0;34m(\u001b[0m\u001b[0;34m\"Unknown arguments: %s.\"\u001b[0m \u001b[0;34m%\u001b[0m \u001b[0mkwds\u001b[0m\u001b[0;34m)\u001b[0m\u001b[0;34m\u001b[0m\u001b[0;34m\u001b[0m\u001b[0m\n\u001b[0m\u001b[1;32m   2309\u001b[0m \u001b[0;34m\u001b[0m\u001b[0m\n\u001b[1;32m   2310\u001b[0m         \u001b[0mvals\u001b[0m \u001b[0;34m=\u001b[0m \u001b[0moptimizer\u001b[0m\u001b[0;34m(\u001b[0m\u001b[0mfunc\u001b[0m\u001b[0;34m,\u001b[0m \u001b[0mx0\u001b[0m\u001b[0;34m,\u001b[0m \u001b[0margs\u001b[0m\u001b[0;34m=\u001b[0m\u001b[0;34m(\u001b[0m\u001b[0mravel\u001b[0m\u001b[0;34m(\u001b[0m\u001b[0mdata\u001b[0m\u001b[0;34m)\u001b[0m\u001b[0;34m,\u001b[0m\u001b[0;34m)\u001b[0m\u001b[0;34m,\u001b[0m \u001b[0mdisp\u001b[0m\u001b[0;34m=\u001b[0m\u001b[0;36m0\u001b[0m\u001b[0;34m)\u001b[0m\u001b[0;34m\u001b[0m\u001b[0;34m\u001b[0m\u001b[0m\n",
      "\u001b[0;31mTypeError\u001b[0m: Unknown arguments: {'N': 100}."
     ]
    }
   ],
   "source": [
    "from scipy.stats import powerlaw\n",
    "from scipy.stats import expon\n",
    "from scipy.stats import lognorm\n",
    "from scipy.stats import norm\n",
    "\n",
    "\n",
    "a = 5.1\n",
    "size = 10000\n",
    "data = 10 + 100*powerlaw.rvs(a, size=size)\n",
    "\n",
    "# Exponential\n",
    "print('Exponential')\n",
    "params = expon.fit(data)\n",
    "print(stats.kstest(data,\"expon\",args=params, N = 1000))\n",
    "\n",
    "\n",
    "#Normal\n",
    "print('norm')\n",
    "params = norm.fit(data)\n",
    "print(stats.kstest(data,\"norm\",args=params, N = 1000))\n",
    "\n",
    "# Lognormal\n",
    "print('lognorm')\n",
    "params = lognorm.fit(data)\n",
    "print(stats.kstest(data,\"lognorm\",args=params, N = 1000))\n",
    "\n",
    "\n",
    "# Powerlaw\n",
    "print('powerlaw')\n",
    "params = powerlaw.fit(data, N = 100)\n",
    "print(stats.kstest(data,\"powerlaw\",args=params, N = 1000))"
   ]
  },
  {
   "cell_type": "code",
   "execution_count": 92,
   "metadata": {},
   "outputs": [
    {
     "data": {
      "text/plain": [
       "(4.4056972355868815, 20.12836601059761, 89.87054127196848)"
      ]
     },
     "execution_count": 92,
     "metadata": {},
     "output_type": "execute_result"
    }
   ],
   "source": [
    "params"
   ]
  },
  {
   "cell_type": "code",
   "execution_count": 87,
   "metadata": {},
   "outputs": [
    {
     "data": {
      "text/plain": [
       "4.937850453483789"
      ]
     },
     "execution_count": 87,
     "metadata": {},
     "output_type": "execute_result"
    }
   ],
   "source": [
    "params[0]"
   ]
  },
  {
   "cell_type": "code",
   "execution_count": 40,
   "metadata": {},
   "outputs": [
    {
     "data": {
      "text/plain": [
       "0.999935896085896"
      ]
     },
     "execution_count": 40,
     "metadata": {},
     "output_type": "execute_result"
    }
   ],
   "source": [
    "np.max(powerlaw.rvs(a, size=size))\n"
   ]
  },
  {
   "cell_type": "code",
   "execution_count": 2,
   "metadata": {},
   "outputs": [],
   "source": [
    "import igraph as ig\n",
    "import pandas as pd \n",
    "import numpy as np"
   ]
  },
  {
   "cell_type": "code",
   "execution_count": 4,
   "metadata": {},
   "outputs": [
    {
     "name": "stdout",
     "output_type": "stream",
     "text": [
      "[2.0, 2.0]\n",
      "[2.0, 2.0]\n"
     ]
    }
   ],
   "source": [
    "# Create the graph\n",
    "G = ig.Graph()\n",
    "\n",
    "nodes = pd.DataFrame({'identifier':['3a84fb9a-c117-451d-afb5-eaf5b2bcab99','5dbfa54a-fa41-43da-a2c0-ae615adcb8b2','b9085232-1e51-43bb-85c1-196d46fabed0']})\n",
    "edges = pd.DataFrame({'id1':['5dbfa54a-fa41-43da-a2c0-ae615adcb8b2','5dbfa54a-fa41-43da-a2c0-ae615adcb8b2'], 'id2':['3a84fb9a-c117-451d-afb5-eaf5b2bcab99','b9085232-1e51-43bb-85c1-196d46fabed0'], 'weight':[0.1,20]})\n",
    "\n",
    "G.add_vertices(nodes.identifier.values)\n",
    "G.add_edges(edges.apply(lambda df: (df.id1, df.id2), axis = 1))\n",
    "G.es['weight'] = edges.weight.values\n",
    "\n",
    "\n",
    "print(G.edge_betweenness())\n",
    "print(G.edge_betweenness(directed = False))"
   ]
  },
  {
   "cell_type": "code",
   "execution_count": 25,
   "metadata": {},
   "outputs": [],
   "source": [
    "def gini(array):\n",
    "    \"\"\"Calculate the Gini coefficient of a numpy array.\"\"\"\n",
    "    # Method copied from https://github.com/oliviaguest/gini\n",
    "    \n",
    "    array = np.array(array).flatten() #all values are treated equally, arrays must be 1d\n",
    "    if np.amin(array) < 0:\n",
    "        array -= np.amin(array) #values cannot be negative\n",
    "    array = array + 0.0000001 #values cannot be 0\n",
    "    array = np.sort(array) #values must be sorted\n",
    "    index = np.arange(1,array.shape[0]+1) #index per array element\n",
    "    n = array.shape[0]#number of array elements\n",
    "    return ((np.sum((2 * index - n  - 1) * array)) / (n * np.sum(array))) #Gini coefficient"
   ]
  },
  {
   "cell_type": "code",
   "execution_count": 33,
   "metadata": {},
   "outputs": [
    {
     "data": {
      "text/plain": [
       "0.4139034690327067"
      ]
     },
     "execution_count": 33,
     "metadata": {},
     "output_type": "execute_result"
    }
   ],
   "source": [
    "gini(np.abs(np.random.normal(0,1,700000)))"
   ]
  },
  {
   "cell_type": "code",
   "execution_count": 18,
   "metadata": {},
   "outputs": [
    {
     "name": "stdout",
     "output_type": "stream",
     "text": [
      "1.1295264244262948\n"
     ]
    },
    {
     "name": "stderr",
     "output_type": "stream",
     "text": [
      "Calculating best minimal value for power law fit\n"
     ]
    },
    {
     "ename": "TypeError",
     "evalue": "'>' not supported between instances of 'numpy.ndarray' and 'int'",
     "output_type": "error",
     "traceback": [
      "\u001b[0;31m---------------------------------------------------------------------------\u001b[0m",
      "\u001b[0;31mTypeError\u001b[0m                                 Traceback (most recent call last)",
      "\u001b[0;32m<ipython-input-18-32899d8dbf8b>\u001b[0m in \u001b[0;36m<module>\u001b[0;34m\u001b[0m\n\u001b[1;32m     12\u001b[0m \u001b[0mprint\u001b[0m\u001b[0;34m(\u001b[0m\u001b[0malpha\u001b[0m\u001b[0;34m)\u001b[0m\u001b[0;34m\u001b[0m\u001b[0;34m\u001b[0m\u001b[0m\n\u001b[1;32m     13\u001b[0m \u001b[0;34m\u001b[0m\u001b[0m\n\u001b[0;32m---> 14\u001b[0;31m \u001b[0mkstest\u001b[0m\u001b[0;34m(\u001b[0m\u001b[0mdist\u001b[0m\u001b[0;34m,\u001b[0m \u001b[0;34m'powerlaw'\u001b[0m\u001b[0;34m,\u001b[0m \u001b[0margs\u001b[0m \u001b[0;34m=\u001b[0m \u001b[0;34m{\u001b[0m\u001b[0;34m'a'\u001b[0m\u001b[0;34m:\u001b[0m\u001b[0malpha\u001b[0m\u001b[0;34m}\u001b[0m\u001b[0;34m)\u001b[0m\u001b[0;34m\u001b[0m\u001b[0;34m\u001b[0m\u001b[0m\n\u001b[0m\u001b[1;32m     15\u001b[0m \u001b[0;34m\u001b[0m\u001b[0m\n",
      "\u001b[0;32m/opt/conda/lib/python3.7/site-packages/scipy/stats/stats.py\u001b[0m in \u001b[0;36mkstest\u001b[0;34m(rvs, cdf, args, N, alternative, mode)\u001b[0m\n\u001b[1;32m   5501\u001b[0m         \u001b[0mvals\u001b[0m \u001b[0;34m=\u001b[0m \u001b[0mnp\u001b[0m\u001b[0;34m.\u001b[0m\u001b[0msort\u001b[0m\u001b[0;34m(\u001b[0m\u001b[0mrvs\u001b[0m\u001b[0;34m)\u001b[0m\u001b[0;34m\u001b[0m\u001b[0;34m\u001b[0m\u001b[0m\n\u001b[1;32m   5502\u001b[0m         \u001b[0mN\u001b[0m \u001b[0;34m=\u001b[0m \u001b[0mlen\u001b[0m\u001b[0;34m(\u001b[0m\u001b[0mvals\u001b[0m\u001b[0;34m)\u001b[0m\u001b[0;34m\u001b[0m\u001b[0;34m\u001b[0m\u001b[0m\n\u001b[0;32m-> 5503\u001b[0;31m     \u001b[0mcdfvals\u001b[0m \u001b[0;34m=\u001b[0m \u001b[0mcdf\u001b[0m\u001b[0;34m(\u001b[0m\u001b[0mvals\u001b[0m\u001b[0;34m,\u001b[0m \u001b[0;34m*\u001b[0m\u001b[0margs\u001b[0m\u001b[0;34m)\u001b[0m\u001b[0;34m\u001b[0m\u001b[0;34m\u001b[0m\u001b[0m\n\u001b[0m\u001b[1;32m   5504\u001b[0m \u001b[0;34m\u001b[0m\u001b[0m\n\u001b[1;32m   5505\u001b[0m     \u001b[0;31m# to not break compatibility with existing code\u001b[0m\u001b[0;34m\u001b[0m\u001b[0;34m\u001b[0m\u001b[0;34m\u001b[0m\u001b[0m\n",
      "\u001b[0;32m/opt/conda/lib/python3.7/site-packages/scipy/stats/_distn_infrastructure.py\u001b[0m in \u001b[0;36mcdf\u001b[0;34m(self, x, *args, **kwds)\u001b[0m\n\u001b[1;32m   1823\u001b[0m         \u001b[0mdtyp\u001b[0m \u001b[0;34m=\u001b[0m \u001b[0mnp\u001b[0m\u001b[0;34m.\u001b[0m\u001b[0mfind_common_type\u001b[0m\u001b[0;34m(\u001b[0m\u001b[0;34m[\u001b[0m\u001b[0mx\u001b[0m\u001b[0;34m.\u001b[0m\u001b[0mdtype\u001b[0m\u001b[0;34m,\u001b[0m \u001b[0mnp\u001b[0m\u001b[0;34m.\u001b[0m\u001b[0mfloat64\u001b[0m\u001b[0;34m]\u001b[0m\u001b[0;34m,\u001b[0m \u001b[0;34m[\u001b[0m\u001b[0;34m]\u001b[0m\u001b[0;34m)\u001b[0m\u001b[0;34m\u001b[0m\u001b[0;34m\u001b[0m\u001b[0m\n\u001b[1;32m   1824\u001b[0m         \u001b[0mx\u001b[0m \u001b[0;34m=\u001b[0m \u001b[0mnp\u001b[0m\u001b[0;34m.\u001b[0m\u001b[0masarray\u001b[0m\u001b[0;34m(\u001b[0m\u001b[0;34m(\u001b[0m\u001b[0mx\u001b[0m \u001b[0;34m-\u001b[0m \u001b[0mloc\u001b[0m\u001b[0;34m)\u001b[0m\u001b[0;34m/\u001b[0m\u001b[0mscale\u001b[0m\u001b[0;34m,\u001b[0m \u001b[0mdtype\u001b[0m\u001b[0;34m=\u001b[0m\u001b[0mdtyp\u001b[0m\u001b[0;34m)\u001b[0m\u001b[0;34m\u001b[0m\u001b[0;34m\u001b[0m\u001b[0m\n\u001b[0;32m-> 1825\u001b[0;31m         \u001b[0mcond0\u001b[0m \u001b[0;34m=\u001b[0m \u001b[0mself\u001b[0m\u001b[0;34m.\u001b[0m\u001b[0m_argcheck\u001b[0m\u001b[0;34m(\u001b[0m\u001b[0;34m*\u001b[0m\u001b[0margs\u001b[0m\u001b[0;34m)\u001b[0m \u001b[0;34m&\u001b[0m \u001b[0;34m(\u001b[0m\u001b[0mscale\u001b[0m \u001b[0;34m>\u001b[0m \u001b[0;36m0\u001b[0m\u001b[0;34m)\u001b[0m\u001b[0;34m\u001b[0m\u001b[0;34m\u001b[0m\u001b[0m\n\u001b[0m\u001b[1;32m   1826\u001b[0m         \u001b[0mcond1\u001b[0m \u001b[0;34m=\u001b[0m \u001b[0mself\u001b[0m\u001b[0;34m.\u001b[0m\u001b[0m_open_support_mask\u001b[0m\u001b[0;34m(\u001b[0m\u001b[0mx\u001b[0m\u001b[0;34m,\u001b[0m \u001b[0;34m*\u001b[0m\u001b[0margs\u001b[0m\u001b[0;34m)\u001b[0m \u001b[0;34m&\u001b[0m \u001b[0;34m(\u001b[0m\u001b[0mscale\u001b[0m \u001b[0;34m>\u001b[0m \u001b[0;36m0\u001b[0m\u001b[0;34m)\u001b[0m\u001b[0;34m\u001b[0m\u001b[0;34m\u001b[0m\u001b[0m\n\u001b[1;32m   1827\u001b[0m         \u001b[0mcond2\u001b[0m \u001b[0;34m=\u001b[0m \u001b[0;34m(\u001b[0m\u001b[0mx\u001b[0m \u001b[0;34m>=\u001b[0m \u001b[0mnp\u001b[0m\u001b[0;34m.\u001b[0m\u001b[0masarray\u001b[0m\u001b[0;34m(\u001b[0m\u001b[0m_b\u001b[0m\u001b[0;34m)\u001b[0m\u001b[0;34m)\u001b[0m \u001b[0;34m&\u001b[0m \u001b[0mcond0\u001b[0m\u001b[0;34m\u001b[0m\u001b[0;34m\u001b[0m\u001b[0m\n",
      "\u001b[0;32m/opt/conda/lib/python3.7/site-packages/scipy/stats/_distn_infrastructure.py\u001b[0m in \u001b[0;36m_argcheck\u001b[0;34m(self, *args)\u001b[0m\n\u001b[1;32m    871\u001b[0m         \u001b[0mcond\u001b[0m \u001b[0;34m=\u001b[0m \u001b[0;36m1\u001b[0m\u001b[0;34m\u001b[0m\u001b[0;34m\u001b[0m\u001b[0m\n\u001b[1;32m    872\u001b[0m         \u001b[0;32mfor\u001b[0m \u001b[0marg\u001b[0m \u001b[0;32min\u001b[0m \u001b[0margs\u001b[0m\u001b[0;34m:\u001b[0m\u001b[0;34m\u001b[0m\u001b[0;34m\u001b[0m\u001b[0m\n\u001b[0;32m--> 873\u001b[0;31m             \u001b[0mcond\u001b[0m \u001b[0;34m=\u001b[0m \u001b[0mlogical_and\u001b[0m\u001b[0;34m(\u001b[0m\u001b[0mcond\u001b[0m\u001b[0;34m,\u001b[0m \u001b[0;34m(\u001b[0m\u001b[0masarray\u001b[0m\u001b[0;34m(\u001b[0m\u001b[0marg\u001b[0m\u001b[0;34m)\u001b[0m \u001b[0;34m>\u001b[0m \u001b[0;36m0\u001b[0m\u001b[0;34m)\u001b[0m\u001b[0;34m)\u001b[0m\u001b[0;34m\u001b[0m\u001b[0;34m\u001b[0m\u001b[0m\n\u001b[0m\u001b[1;32m    874\u001b[0m         \u001b[0;32mreturn\u001b[0m \u001b[0mcond\u001b[0m\u001b[0;34m\u001b[0m\u001b[0;34m\u001b[0m\u001b[0m\n\u001b[1;32m    875\u001b[0m \u001b[0;34m\u001b[0m\u001b[0m\n",
      "\u001b[0;31mTypeError\u001b[0m: '>' not supported between instances of 'numpy.ndarray' and 'int'"
     ]
    }
   ],
   "source": [
    "import powerlaw\n",
    "import numpy as np\n",
    "from scipy.stats import kstest\n",
    "\n",
    "degrees = np.array([0,0,1,0,0,0,0,0,0,0,0,0,0,1000, 1000,1000, 1000])\n",
    "\n",
    "dist = degrees + 0.000000001\n",
    "\n",
    "resp = powerlaw.Fit(dist)\n",
    "alpha = resp.alpha\n",
    "\n",
    "print(alpha)\n",
    "\n",
    "kstest(dist, 'powerlaw', args = {'a':alpha})\n",
    "\n"
   ]
  },
  {
   "cell_type": "code",
   "execution_count": 21,
   "metadata": {},
   "outputs": [
    {
     "ename": "AttributeError",
     "evalue": "dist",
     "output_type": "error",
     "traceback": [
      "\u001b[0;31m---------------------------------------------------------------------------\u001b[0m",
      "\u001b[0;31mAttributeError\u001b[0m                            Traceback (most recent call last)",
      "\u001b[0;32m<ipython-input-21-0fcf42f7c2f6>\u001b[0m in \u001b[0;36m<module>\u001b[0;34m\u001b[0m\n\u001b[0;32m----> 1\u001b[0;31m \u001b[0mresp\u001b[0m\u001b[0;34m.\u001b[0m\u001b[0mdist\u001b[0m\u001b[0;34m\u001b[0m\u001b[0;34m\u001b[0m\u001b[0m\n\u001b[0m",
      "\u001b[0;32m/opt/conda/lib/python3.7/site-packages/powerlaw.py\u001b[0m in \u001b[0;36m__getattr__\u001b[0;34m(self, name)\u001b[0m\n\u001b[1;32m    173\u001b[0m             \u001b[0;32mreturn\u001b[0m \u001b[0mgetattr\u001b[0m\u001b[0;34m(\u001b[0m\u001b[0mself\u001b[0m\u001b[0;34m,\u001b[0m \u001b[0mname\u001b[0m\u001b[0;34m)\u001b[0m\u001b[0;34m\u001b[0m\u001b[0;34m\u001b[0m\u001b[0m\n\u001b[1;32m    174\u001b[0m         \u001b[0;32melse\u001b[0m\u001b[0;34m:\u001b[0m\u001b[0;34m\u001b[0m\u001b[0;34m\u001b[0m\u001b[0m\n\u001b[0;32m--> 175\u001b[0;31m             \u001b[0;32mraise\u001b[0m \u001b[0mAttributeError\u001b[0m\u001b[0;34m(\u001b[0m\u001b[0mname\u001b[0m\u001b[0;34m)\u001b[0m\u001b[0;34m\u001b[0m\u001b[0;34m\u001b[0m\u001b[0m\n\u001b[0m\u001b[1;32m    176\u001b[0m \u001b[0;34m\u001b[0m\u001b[0m\n\u001b[1;32m    177\u001b[0m     \u001b[0;32mdef\u001b[0m \u001b[0mfind_xmin\u001b[0m\u001b[0;34m(\u001b[0m\u001b[0mself\u001b[0m\u001b[0;34m,\u001b[0m \u001b[0mxmin_distance\u001b[0m\u001b[0;34m=\u001b[0m\u001b[0;32mNone\u001b[0m\u001b[0;34m)\u001b[0m\u001b[0;34m:\u001b[0m\u001b[0;34m\u001b[0m\u001b[0;34m\u001b[0m\u001b[0m\n",
      "\u001b[0;31mAttributeError\u001b[0m: dist"
     ]
    }
   ],
   "source": [
    "resp.dist"
   ]
  },
  {
   "cell_type": "code",
   "execution_count": 50,
   "metadata": {},
   "outputs": [
    {
     "name": "stdout",
     "output_type": "stream",
     "text": [
      "Apply: 43.4 segundos\n",
      "Vectorizando: 0.51 segundos\n",
      "Diferencia en Valores: 0.0\n"
     ]
    }
   ],
   "source": [
    "import time\n",
    "import pandas as pd\n",
    "import numpy as np\n",
    "# Comparacion\n",
    "\n",
    "\n",
    "# Parametros\n",
    "size = 10000000\n",
    "eps = 1e-16\n",
    "div = 1200\n",
    "\n",
    "\n",
    "div = 1200\n",
    "\n",
    "def soft_plus(x):\n",
    "    return np.log(1 + np.exp(-x/div))/np.log(2)\n",
    "\n",
    "\n",
    "# Crea un dataframe de prueba con valores aleatorios entre 0 y 50\n",
    "df = pd.DataFrame({'val': np.random.randint(0,50, size), 'sig1' : 0, 'sig2' : 0})\n",
    "\n",
    "\n",
    "\n",
    "# Usando Aply\n",
    "s = time.time()\n",
    "df['sig1'] = df.val.apply(soft_plus)\n",
    "print(f\"Apply: {np.round(time.time() - s,2)} segundos\")\n",
    "\n",
    "# Vectorizando\n",
    "s = time.time()\n",
    "df['sig2'] =   np.log(1 + np.exp(-1*df.val/div))/np.log(2)\n",
    "print(f\"Vectorizando: {np.round(time.time() - s,2)} segundos\")\n",
    "\n",
    "\n",
    "# Mira la diferencia\n",
    "print('Diferencia en Valores: ' + str(np.abs(df['sig2'] - df['sig1']).sum()))"
   ]
  },
  {
   "cell_type": "code",
   "execution_count": 55,
   "metadata": {},
   "outputs": [
    {
     "data": {
      "text/plain": [
       "0.0"
      ]
     },
     "execution_count": 55,
     "metadata": {},
     "output_type": "execute_result"
    }
   ],
   "source": [
    "div = 1200\n",
    "\n",
    "def soft_plus(x):\n",
    "    return np.log(1 + np.exp(-x/div))/np.log(2)\n",
    "\n",
    "soft_plus(np.inf)"
   ]
  },
  {
   "cell_type": "code",
   "execution_count": null,
   "metadata": {},
   "outputs": [],
   "source": [
    "# Create the graph\n",
    "G = ig.Graph()\n",
    "\n",
    "G.add_vertices(vertices_listG)\n",
    "G.add_edges(listedges)\n",
    "nn = newvass.merge(weighted_graphdf[['distance_to_infected', 'identifier']],  left_on='id1', right_on='identifier')\n",
    "nn['distance_to_infected_1'] = nn['distance_to_infected']\n",
    "nn2 = nn[['id2', 'id1', 'distance_to_infected_1']].merge(weighted_graphdf[['distance_to_infected', 'identifier']],  left_on='id2', right_on='identifier')\n",
    "nn2.fillna(0, inplace=True)\n",
    "nn2['weight'] = nn2['distance_to_infected_1']/2 + nn2['distance_to_infected']/2\n",
    "weighted_edges =list(nn2['weight'].apply(sigmoidit))\n",
    "G.es['weight'] = weighted_edges\n",
    "\n",
    "\n",
    "# Centralities\n",
    "vertices = G.vs['name']\n",
    "pr = G.pagerank()\n",
    "eigenvector_c = G.evcent()\n",
    "degree = G.degree()\n",
    "pr_weight = G.pagerank( weights= G.es['weight'])\n",
    "dist = list(weighted_graphdf['distance_to_infected'])\n",
    "dict_centralities = {'page_rank': pr, 'eigenvector_c':eigenvector_c, 'degree':degree, 'weighted_pagerank':pr_weight, 'distance':dist}"
   ]
  },
  {
   "cell_type": "code",
   "execution_count": 56,
   "metadata": {},
   "outputs": [
    {
     "ename": "NameError",
     "evalue": "name 'run_simple_query' is not defined",
     "output_type": "error",
     "traceback": [
      "\u001b[0;31m---------------------------------------------------------------------------\u001b[0m",
      "\u001b[0;31mNameError\u001b[0m                                 Traceback (most recent call last)",
      "\u001b[0;32m<ipython-input-56-be08efd5fa6b>\u001b[0m in \u001b[0;36m<module>\u001b[0;34m\u001b[0m\n\u001b[1;32m      4\u001b[0m \u001b[0msql\u001b[0m \u001b[0;34m=\u001b[0m \u001b[0;34mf\"SELECT MAX(week_date) as max_date FROM {table_id}\"\u001b[0m\u001b[0;34m\u001b[0m\u001b[0;34m\u001b[0m\u001b[0m\n\u001b[1;32m      5\u001b[0m \u001b[0;34m\u001b[0m\u001b[0m\n\u001b[0;32m----> 6\u001b[0;31m \u001b[0mdf_temp\u001b[0m \u001b[0;34m=\u001b[0m \u001b[0mrun_simple_query\u001b[0m\u001b[0;34m(\u001b[0m\u001b[0mclient\u001b[0m\u001b[0;34m,\u001b[0m \u001b[0msql\u001b[0m\u001b[0;34m)\u001b[0m\u001b[0;34m\u001b[0m\u001b[0;34m\u001b[0m\u001b[0m\n\u001b[0m\u001b[1;32m      7\u001b[0m \u001b[0mmax_date\u001b[0m \u001b[0;34m=\u001b[0m \u001b[0mdf_temp\u001b[0m\u001b[0;34m.\u001b[0m\u001b[0mmax_date\u001b[0m\u001b[0;34m.\u001b[0m\u001b[0mvalues\u001b[0m\u001b[0;34m[\u001b[0m\u001b[0;36m0\u001b[0m\u001b[0;34m]\u001b[0m\u001b[0;34m\u001b[0m\u001b[0;34m\u001b[0m\u001b[0m\n\u001b[1;32m      8\u001b[0m \u001b[0;34m\u001b[0m\u001b[0m\n",
      "\u001b[0;31mNameError\u001b[0m: name 'run_simple_query' is not defined"
     ]
    }
   ],
   "source": []
  },
  {
   "cell_type": "code",
   "execution_count": 3,
   "metadata": {},
   "outputs": [
    {
     "data": {
      "text/plain": [
       "'\\n                        SELECT MAX(DATE( date_start_symtoms)) as max_date\\n                        FROM  positives.palmira\\n                '"
      ]
     },
     "execution_count": 3,
     "metadata": {},
     "output_type": "execute_result"
    }
   ],
   "source": [
    "generic_sql_max_date = \"\"\"\n",
    "                        SELECT MAX(DATE( date_start_symtoms)) as max_date\n",
    "                        FROM  positives.{table_name}\n",
    "                \"\"\"\n",
    "generic_sql_max_date.format(table_name = 'palmira')"
   ]
  },
  {
   "cell_type": "code",
   "execution_count": null,
   "metadata": {},
   "outputs": [],
   "source": [
    "import numpy as np\n",
    "import time\n",
    "from multiprocessing import Pool, RawArray\n",
    "\n",
    "# A global dictionary storing the variables passed from the initializer.\n",
    "var_dict = {}\n",
    "\n",
    "def init_worker(X, X_shape):\n",
    "    # Using a dictionary is not strictly necessary. You can also\n",
    "    # use global variables.\n",
    "    var_dict['X'] = X\n",
    "    var_dict['X_shape'] = X_shape\n",
    "\n",
    "def worker_func(indices):\n",
    "    # Simply computes the sum of the i-th row of the input matrix X\n",
    "    X_np = np.frombuffer(var_dict['X']).reshape(var_dict['X_shape'])\n",
    "    res = 0\n",
    "    for i in indices:\n",
    "        for t in X_np[i,:]:\n",
    "            if t < 0:\n",
    "                res += 1\n",
    "\n",
    "        return(res)\n",
    "\n",
    "def worker_func_non(data, i):\n",
    "    # Simply computes the sum of the i-th row of the input matrix X\n",
    "    X_np = data\n",
    "    res = 0\n",
    "    for t in X_np[i,:]:\n",
    "        if t < 0:\n",
    "            res += 1\n",
    "    \n",
    "    return(res)\n",
    "\n",
    "# We need this check for Windows to prevent infinitely spawning new child\n",
    "# processes.\n",
    "if __name__ == '__main__':\n",
    "    X_shape = (64, 5000000)\n",
    "    # Randomly generate some data\n",
    "    data = np.random.randn(*X_shape)\n",
    "    \n",
    "    X = RawArray('d', X_shape[0] * X_shape[1])\n",
    "    # Wrap X as an numpy array so we can easily manipulates its data.\n",
    "    X_np = np.frombuffer(X).reshape(X_shape)\n",
    "    # Copy data to our shared array.\n",
    "    np.copyto(X_np, data)\n",
    "    # Start the process pool and do the computation.\n",
    "    # Here we pass X and X_shape to the initializer of each worker.\n",
    "    # (Because X_shape is not a shared variable, it will be copied to each\n",
    "    # child process.)\n",
    "    \n",
    "    rows = 64\n",
    "    step = 8\n",
    "    [[k for k in range(i*step, i*step + step)] for i in range(int(rows/step))]\n",
    "\n",
    "    start = time.time()\n",
    "    with Pool(processes=8, initializer=init_worker, initargs=(X, X_shape)) as pool:\n",
    "        result = pool.map(worker_func, range(X_shape[0]))\n",
    "        print('Results (pool):\\n', result)\n",
    "    \n",
    "    print(time.time() - start)\n",
    "    start = time.time()\n",
    "    \n",
    "    result = []\n",
    "    for i in range(X_shape[0]):\n",
    "        result.append(worker_func_non(data, i))\n",
    "    \n",
    "    print(result)\n",
    "    print(time.time() - start)"
   ]
  },
  {
   "cell_type": "code",
   "execution_count": 4,
   "metadata": {},
   "outputs": [
    {
     "data": {
      "text/plain": [
       "[[0, 1, 2, 3, 4, 5, 6, 7],\n",
       " [8, 9, 10, 11, 12, 13, 14, 15],\n",
       " [16, 17, 18, 19, 20, 21, 22, 23],\n",
       " [24, 25, 26, 27, 28, 29, 30, 31],\n",
       " [32, 33, 34, 35, 36, 37, 38, 39],\n",
       " [40, 41, 42, 43, 44, 45, 46, 47],\n",
       " [48, 49, 50, 51, 52, 53, 54, 55],\n",
       " [56, 57, 58, 59, 60, 61, 62, 63]]"
      ]
     },
     "execution_count": 4,
     "metadata": {},
     "output_type": "execute_result"
    }
   ],
   "source": [
    "rows = 64\n",
    "step = 8\n",
    "[[k for k in range(i*step, i*step + step)] for i in range(int(rows/step))]"
   ]
  },
  {
   "cell_type": "code",
   "execution_count": null,
   "metadata": {},
   "outputs": [],
   "source": []
  }
 ],
 "metadata": {
  "environment": {
   "name": "common-cpu.m54",
   "type": "gcloud",
   "uri": "gcr.io/deeplearning-platform-release/base-cpu:m54"
  },
  "kernelspec": {
   "display_name": "Python 3",
   "language": "python",
   "name": "python3"
  },
  "language_info": {
   "codemirror_mode": {
    "name": "ipython",
    "version": 3
   },
   "file_extension": ".py",
   "mimetype": "text/x-python",
   "name": "python",
   "nbconvert_exporter": "python",
   "pygments_lexer": "ipython3",
   "version": "3.7.8"
  }
 },
 "nbformat": 4,
 "nbformat_minor": 4
}
