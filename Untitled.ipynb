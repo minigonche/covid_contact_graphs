{
 "cells": [
  {
   "cell_type": "code",
   "execution_count": null,
   "metadata": {},
   "outputs": [
    {
     "name": "stdout",
     "output_type": "stream",
     "text": [
      "\n",
      "\n",
      "\n",
      "----------------------------------------------------------------------------------------------------------------------------\n",
      "----------------------------------------------------------------------------------------------------------------------------\n",
      "----------------------------------------------------------------------------------------------------------------------------\n",
      "Time: 2020-07-22 19:19:03.158496\n",
      "Started Update Process\n",
      "--------------------------------------\n",
      "\n",
      "Computing 2 Node Attributes\n",
      "   Coputing node_degree.\n",
      "      Found 0\n",
      "   Coputing pagerank_centrality.\n",
      "      Found 21\n",
      "         Calculating for colombia_agglomerations_covid_friday (1 of 21), from: 2020-02-23 to 2020-07-19 19:19:03.158600\n",
      "            2020-02-23: OK.\n",
      "            2020-03-01: OK.\n",
      "            2020-03-08: Skipped by implementation.\n",
      "            2020-03-15: OK.\n",
      "            2020-03-22: OK.\n",
      "            2020-03-29: OK.\n"
     ]
    }
   ],
   "source": [
    "import excecute_attributes_update"
   ]
  },
  {
   "cell_type": "code",
   "execution_count": 2,
   "metadata": {},
   "outputs": [],
   "source": [
    "import igraph as ig\n",
    "\n",
    "\n",
    "# Create the graph\n",
    "G = ig.Graph()\n",
    "\n",
    "# Adds the values\n",
    "G.add_vertices(['a','b','c','d'])\n",
    "\n",
    "\n",
    "#G.add_edges(edges.apply(lambda df: (df.id1, df.id2), axis = 1))\n",
    "\n",
    "# Exctracs the pagerank\n",
    "page_rank = G.pagerank()"
   ]
  },
  {
   "cell_type": "code",
   "execution_count": 3,
   "metadata": {},
   "outputs": [
    {
     "data": {
      "text/plain": [
       "[0.25, 0.25, 0.25, 0.25]"
      ]
     },
     "execution_count": 3,
     "metadata": {},
     "output_type": "execute_result"
    }
   ],
   "source": []
  }
 ],
 "metadata": {
  "environment": {
   "name": "common-cpu.m48",
   "type": "gcloud",
   "uri": "gcr.io/deeplearning-platform-release/base-cpu:m48"
  },
  "kernelspec": {
   "display_name": "Python 3",
   "language": "python",
   "name": "python3"
  },
  "language_info": {
   "codemirror_mode": {
    "name": "ipython",
    "version": 3
   },
   "file_extension": ".py",
   "mimetype": "text/x-python",
   "name": "python",
   "nbconvert_exporter": "python",
   "pygments_lexer": "ipython3",
   "version": "3.7.6"
  }
 },
 "nbformat": 4,
 "nbformat_minor": 4
}
