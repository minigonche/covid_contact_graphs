{
 "cells": [
  {
   "cell_type": "code",
   "execution_count": 1,
   "metadata": {},
   "outputs": [
    {
     "name": "stdout",
     "output_type": "stream",
     "text": [
      "\n",
      "\n",
      "\n",
      "----------------------------------------------------------------------------------------------------------------------------\n",
      "----------------------------------------------------------------------------------------------------------------------------\n",
      "----------------------------------------------------------------------------------------------------------------------------\n",
      "Time: 2020-07-19 23:14:35.832509\n",
      "Started Update Process\n",
      "--------------------------------------\n",
      "\n",
      "Computing 1 Graphs Attributes\n",
      "   Computing graph_size.\n",
      "      Found 35\n",
      "         Calculating for colombia_university_andes_cede_principal, from: 2020-06-28 to 2020-07-12\n",
      "            2020-06-28: Skipped by implementation.\n",
      "            2020-07-05: Skipped by implementation.\n",
      "            2020-07-12: Skipped by implementation.\n",
      "         Calculating for colombia_university_rosario_quinta_mutis, from: 2020-06-28 to 2020-07-12\n",
      "            2020-06-28: Skipped by implementation.\n",
      "            2020-07-05: Skipped by implementation.\n",
      "            2020-07-12: Skipped by implementation.\n",
      "         Calculating for colombia_university_rosario_claustro, from: 2020-06-28 to 2020-07-12\n",
      "            2020-06-28: Skipped by implementation.\n",
      "            2020-07-05: Skipped by implementation.\n",
      "            2020-07-12: Skipped by implementation.\n",
      "         Calculating for colombia_university_rosario_campus_norte, from: 2020-06-28 to 2020-07-12\n",
      "            2020-06-28: Skipped by implementation.\n",
      "            2020-07-05: Skipped by implementation.\n",
      "            2020-07-12: Skipped by implementation.\n",
      "         Calculating for colombia_university_rosario_mederi, from: 2020-06-28 to 2020-07-12\n",
      "            2020-06-28: Skipped by implementation.\n",
      "            2020-07-05: Skipped by implementation.\n",
      "            2020-07-12: Skipped by implementation.\n",
      "         Calculating for colombia_university_rosario_gsb, from: 2020-06-28 to 2020-07-12\n",
      "            2020-06-28: Skipped by implementation.\n",
      "            2020-07-05: Skipped by implementation.\n",
      "            2020-07-12: Skipped by implementation.\n",
      "         Calculating for colombia_university_javeriana_cede_principal, from: 2020-06-28 to 2020-07-12\n",
      "            2020-06-28: Skipped by implementation.\n",
      "            2020-07-05: Skipped by implementation.\n",
      "            2020-07-12: Skipped by implementation.\n",
      "         Calculating for colombia_bogota, from: 2020-06-28 to 2020-07-12\n",
      "            2020-06-28: Skipped by implementation.\n",
      "            2020-07-05: Skipped by implementation.\n",
      "            2020-07-12: Skipped by implementation.\n",
      "         Calculating for colombia_barranquilla, from: 2020-06-28 to 2020-07-12\n",
      "            2020-06-28: Skipped by implementation.\n",
      "            2020-07-05: Skipped by implementation.\n",
      "            2020-07-12: Skipped by implementation.\n",
      "         Calculating for colombia_cartagena, from: 2020-06-28 to 2020-07-12\n",
      "            2020-06-28: Skipped by implementation.\n",
      "            2020-07-05: Skipped by implementation.\n",
      "            2020-07-12: Skipped by implementation.\n",
      "         Calculating for colombia_medellin, from: 2020-06-28 to 2020-07-12\n",
      "            2020-06-28: Skipped by implementation.\n",
      "            2020-07-05: Skipped by implementation.\n",
      "            2020-07-12: Skipped by implementation.\n",
      "         Calculating for colombia_magdalena, from: 2020-06-28 to 2020-07-12\n",
      "            2020-06-28: Skipped by implementation.\n",
      "            2020-07-05: Skipped by implementation.\n",
      "            2020-07-12: Skipped by implementation.\n",
      "         Calculating for colombia_valle_del_cauca, from: 2020-06-28 to 2020-07-12\n",
      "            2020-06-28: Skipped by implementation.\n",
      "            2020-07-05: Skipped by implementation.\n",
      "            2020-07-12: Skipped by implementation.\n",
      "         Calculating for colombia_cauca, from: 2020-06-28 to 2020-07-12\n",
      "            2020-06-28: Skipped by implementation.\n",
      "            2020-07-05: Skipped by implementation.\n",
      "            2020-07-12: Skipped by implementation.\n",
      "         Calculating for colombia_agglomerations_covid_friday, from: 2020-06-28 to 2020-07-12\n",
      "            2020-06-28: Skipped by implementation.\n",
      "            2020-07-05: Skipped by implementation.\n",
      "            2020-07-12: Skipped by implementation.\n",
      "         Calculating for colombia_bogota_localidad_usaquen, from: 2020-06-28 to 2020-07-12\n",
      "            2020-06-28: Skipped by implementation.\n",
      "            2020-07-05: Skipped by implementation.\n",
      "            2020-07-12: Skipped by implementation.\n",
      "         Calculating for colombia_bogota_localidad_suba, from: 2020-06-28 to 2020-07-12\n",
      "            2020-06-28: Skipped by implementation.\n",
      "            2020-07-05: Skipped by implementation.\n",
      "            2020-07-12: Skipped by implementation.\n",
      "         Calculating for colombia_bogota_localidad_tunjuelito, from: 2020-06-28 to 2020-07-12\n",
      "            2020-06-28: Skipped by implementation.\n",
      "            2020-07-05: Skipped by implementation.\n",
      "            2020-07-12: Skipped by implementation.\n",
      "         Calculating for colombia_bogota_localidad_ciudad_bolivar, from: 2020-06-28 to 2020-07-12\n",
      "            2020-06-28: Skipped by implementation.\n",
      "            2020-07-05: Skipped by implementation.\n",
      "            2020-07-12: Skipped by implementation.\n",
      "         Calculating for colombia_bogota_localidad_sumapaz, from: 2020-06-28 to 2020-07-12\n",
      "            2020-06-28: Skipped by implementation.\n",
      "            2020-07-05: Skipped by implementation.\n",
      "            2020-07-12: Skipped by implementation.\n",
      "         Calculating for colombia_bogota_localidad_usme, from: 2020-06-28 to 2020-07-12\n",
      "            2020-06-28: Skipped by implementation.\n",
      "            2020-07-05: Skipped by implementation.\n",
      "            2020-07-12: Skipped by implementation.\n",
      "         Calculating for colombia_bogota_localidad_teusaquillo, from: 2020-06-28 to 2020-07-12\n",
      "            2020-06-28: Skipped by implementation.\n",
      "            2020-07-05: Skipped by implementation.\n",
      "            2020-07-12: Skipped by implementation.\n",
      "         Calculating for colombia_bogota_localidad_fontibon, from: 2020-06-28 to 2020-07-12\n",
      "            2020-06-28: Skipped by implementation.\n",
      "            2020-07-05: Skipped by implementation.\n",
      "            2020-07-12: Skipped by implementation.\n",
      "         Calculating for colombia_bogota_localidad_kennedy, from: 2020-06-28 to 2020-07-12\n",
      "            2020-06-28: Skipped by implementation.\n",
      "            2020-07-05: Skipped by implementation.\n",
      "            2020-07-12: Skipped by implementation.\n",
      "         Calculating for colombia_bogota_localidad_bosa, from: 2020-06-28 to 2020-07-12\n",
      "            2020-06-28: Skipped by implementation.\n",
      "            2020-07-05: Skipped by implementation.\n",
      "            2020-07-12: Skipped by implementation.\n",
      "         Calculating for colombia_bogota_localidad_rafael_uribe_uribe, from: 2020-06-28 to 2020-07-12\n",
      "            2020-06-28: Skipped by implementation.\n",
      "            2020-07-05: Skipped by implementation.\n",
      "            2020-07-12: Skipped by implementation.\n",
      "         Calculating for colombia_bogota_localidad_candelaria, from: 2020-06-28 to 2020-07-12\n",
      "            2020-06-28: Skipped by implementation.\n",
      "            2020-07-05: Skipped by implementation.\n",
      "            2020-07-12: Skipped by implementation.\n",
      "         Calculating for colombia_bogota_localidad_los_martires, from: 2020-06-28 to 2020-07-12\n",
      "            2020-06-28: Skipped by implementation.\n",
      "            2020-07-05: Skipped by implementation.\n",
      "            2020-07-12: Skipped by implementation.\n",
      "         Calculating for colombia_bogota_localidad_barrios_unidos, from: 2020-06-28 to 2020-07-12\n",
      "            2020-06-28: Skipped by implementation.\n",
      "            2020-07-05: Skipped by implementation.\n",
      "            2020-07-12: Skipped by implementation.\n",
      "         Calculating for colombia_bogota_localidad_santa_fe, from: 2020-06-28 to 2020-07-12\n",
      "            2020-06-28: Skipped by implementation.\n",
      "            2020-07-05: Skipped by implementation.\n",
      "            2020-07-12: Skipped by implementation.\n",
      "         Calculating for colombia_bogota_localidad_antonio_narino, from: 2020-06-28 to 2020-07-12\n",
      "            2020-06-28: Skipped by implementation.\n",
      "            2020-07-05: Skipped by implementation.\n",
      "            2020-07-12: Skipped by implementation.\n",
      "         Calculating for colombia_bogota_localidad_san_cristobal, from: 2020-06-28 to 2020-07-12\n",
      "            2020-06-28: Skipped by implementation.\n",
      "            2020-07-05: Skipped by implementation.\n",
      "            2020-07-12: Skipped by implementation.\n",
      "         Calculating for colombia_bogota_localidad_chapinero, from: 2020-06-28 to 2020-07-12\n",
      "            2020-06-28: Skipped by implementation.\n",
      "            2020-07-05: Skipped by implementation.\n",
      "            2020-07-12: Skipped by implementation.\n",
      "         Calculating for colombia_bogota_localidad_engativa, from: 2020-06-28 to 2020-07-12\n",
      "            2020-06-28: Skipped by implementation.\n",
      "            2020-07-05: Skipped by implementation.\n",
      "            2020-07-12: Skipped by implementation.\n",
      "         Calculating for colombia_bogota_localidad_puente_aranda, from: 2020-06-28 to 2020-07-12\n",
      "            2020-06-28: Skipped by implementation.\n",
      "            2020-07-05: Skipped by implementation.\n",
      "            2020-07-12: Skipped by implementation.\n",
      "\n",
      "Completed Graphs Attribute\n",
      "---------------------------------------\n",
      "\n",
      "Computing 0 Node Attributes\n",
      "\n",
      "Completed Node Attribute\n",
      "---------------------------------------\n",
      "\n",
      "All Done\n",
      "--------------------------------------\n",
      "\n",
      "All Done\n",
      "<-OK->\n"
     ]
    }
   ],
   "source": [
    "import excecute_attributes_update"
   ]
  },
  {
   "cell_type": "code",
   "execution_count": 5,
   "metadata": {},
   "outputs": [],
   "source": [
    "import git\n",
    "import os"
   ]
  },
  {
   "cell_type": "code",
   "execution_count": 12,
   "metadata": {},
   "outputs": [],
   "source": [
    "import pandas as pd\n",
    "from datetime import datetime"
   ]
  },
  {
   "cell_type": "code",
   "execution_count": 42,
   "metadata": {},
   "outputs": [
    {
     "data": {
      "text/plain": [
       "1"
      ]
     },
     "execution_count": 42,
     "metadata": {},
     "output_type": "execute_result"
    }
   ],
   "source": [
    "\n",
    "start_date = pd.to_datetime(\"2021-01-04\")\n",
    "\n",
    "start_date.date().isocalendar()[1]"
   ]
  },
  {
   "cell_type": "code",
   "execution_count": 37,
   "metadata": {},
   "outputs": [
    {
     "data": {
      "text/plain": [
       "0"
      ]
     },
     "execution_count": 37,
     "metadata": {},
     "output_type": "execute_result"
    }
   ],
   "source": [
    "start_date.dayofweek"
   ]
  },
  {
   "cell_type": "code",
   "execution_count": 19,
   "metadata": {},
   "outputs": [
    {
     "name": "stdout",
     "output_type": "stream",
     "text": [
      "2020-01-05 00:00:00\n"
     ]
    }
   ],
   "source": [
    "d = \"2020-W0\"\n",
    "r = pd.to_datetime(datetime.strptime(d + '-0', \"%Y-W%W-%w\")\n",
    "print(r)"
   ]
  },
  {
   "cell_type": "code",
   "execution_count": 44,
   "metadata": {},
   "outputs": [],
   "source": [
    "def get_year_and_week_of_date(d):\n",
    "    '''\n",
    "    Returns the year and week of the year of the given date.\n",
    "    First week is 1\n",
    "    \n",
    "    d is pandas.datetime\n",
    "    \n",
    "    will raise an error if the given date is not a sunday\n",
    "    '''\n",
    "    \n",
    "    if d.dayofweek != 6:\n",
    "        raise ValueError('Extraction of week is only supported for sundays. But received: {}'.format(d))\n",
    "    \n",
    "    \n",
    "    return(d.date().year,  d.date().isocalendar()[1])\n",
    "\n",
    "\n",
    "def get_date_of_week(year, week):\n",
    "    '''\n",
    "    Returns the year and week of the year of the given date.\n",
    "    \n",
    "    Assumes first week is 1\n",
    "    \n",
    "    d is pandas.datetime\n",
    "    '''\n",
    "    \n",
    "    if week <= 0:\n",
    "        raise ValueError(\"Min week is 1, but {} received\".format(week))\n",
    "    if week > 53:\n",
    "        raise ValueError(\"Min week is 53, but {} received\".format(week))\n",
    "        \n",
    "    d = f\"{year}-W{week -1}\"\n",
    "    r = pd.to_datetime(datetime.strptime(d + '-0', \"%Y-W%W-%w\"))\n",
    "    \n",
    "    return(r)"
   ]
  },
  {
   "cell_type": "code",
   "execution_count": 46,
   "metadata": {},
   "outputs": [
    {
     "data": {
      "text/plain": [
       "(2020, 29)"
      ]
     },
     "execution_count": 46,
     "metadata": {},
     "output_type": "execute_result"
    }
   ],
   "source": [
    "get_year_and_week_of_date(pd.to_datetime(\"2020-07-19\"))"
   ]
  },
  {
   "cell_type": "code",
   "execution_count": 47,
   "metadata": {},
   "outputs": [
    {
     "data": {
      "text/plain": [
       "Timestamp('2020-07-19 00:00:00')"
      ]
     },
     "execution_count": 47,
     "metadata": {},
     "output_type": "execute_result"
    }
   ],
   "source": [
    "get_date_of_week(2020, 29)"
   ]
  },
  {
   "cell_type": "code",
   "execution_count": 8,
   "metadata": {},
   "outputs": [
    {
     "ename": "NameError",
     "evalue": "name 'attribute_name' is not defined",
     "output_type": "error",
     "traceback": [
      "\u001b[0;31m---------------------------------------------------------------------------\u001b[0m",
      "\u001b[0;31mNameError\u001b[0m                                 Traceback (most recent call last)",
      "\u001b[0;32m<ipython-input-8-1c1a39b3575e>\u001b[0m in \u001b[0;36m<module>\u001b[0;34m\u001b[0m\n\u001b[0;32m----> 1\u001b[0;31m \u001b[0;32mimport\u001b[0m \u001b[0mexcecute_attributes_update\u001b[0m\u001b[0;34m\u001b[0m\u001b[0;34m\u001b[0m\u001b[0m\n\u001b[0m",
      "\u001b[0;32m~/covid_contact_graphs/excecute_attributes_update.py\u001b[0m in \u001b[0;36m<module>\u001b[0;34m\u001b[0m\n\u001b[1;32m     15\u001b[0m \u001b[0;31m# Imports the scripts\u001b[0m\u001b[0;34m\u001b[0m\u001b[0;34m\u001b[0m\u001b[0;34m\u001b[0m\u001b[0m\n\u001b[1;32m     16\u001b[0m \u001b[0;32mfrom\u001b[0m \u001b[0mconfig\u001b[0m \u001b[0;32mimport\u001b[0m \u001b[0;34m*\u001b[0m\u001b[0;34m\u001b[0m\u001b[0;34m\u001b[0m\u001b[0m\n\u001b[0;32m---> 17\u001b[0;31m \u001b[0;32mimport\u001b[0m \u001b[0mupdate_attributes\u001b[0m\u001b[0;34m\u001b[0m\u001b[0;34m\u001b[0m\u001b[0m\n\u001b[0m\u001b[1;32m     18\u001b[0m \u001b[0;34m\u001b[0m\u001b[0m\n\u001b[1;32m     19\u001b[0m \u001b[0mprint\u001b[0m\u001b[0;34m(\u001b[0m\u001b[0;34m''\u001b[0m\u001b[0;34m)\u001b[0m\u001b[0;34m\u001b[0m\u001b[0;34m\u001b[0m\u001b[0m\n",
      "\u001b[0;32m~/covid_contact_graphs/update_attributes/update_attributes.py\u001b[0m in \u001b[0;36m<module>\u001b[0;34m\u001b[0m\n\u001b[1;32m     17\u001b[0m \u001b[0;31m# ------------------------------------\u001b[0m\u001b[0;34m\u001b[0m\u001b[0;34m\u001b[0m\u001b[0;34m\u001b[0m\u001b[0m\n\u001b[1;32m     18\u001b[0m \u001b[0mall_graph_attributes\u001b[0m \u001b[0;34m=\u001b[0m \u001b[0;34m[\u001b[0m\u001b[0;34m]\u001b[0m\u001b[0;34m\u001b[0m\u001b[0;34m\u001b[0m\u001b[0m\n\u001b[0;32m---> 19\u001b[0;31m \u001b[0mall_graph_attributes\u001b[0m\u001b[0;34m.\u001b[0m\u001b[0mappend\u001b[0m\u001b[0;34m(\u001b[0m\u001b[0mgraph_size\u001b[0m\u001b[0;34m.\u001b[0m\u001b[0mGraphSize\u001b[0m\u001b[0;34m(\u001b[0m\u001b[0;34m)\u001b[0m\u001b[0;34m)\u001b[0m\u001b[0;34m\u001b[0m\u001b[0;34m\u001b[0m\u001b[0m\n\u001b[0m\u001b[1;32m     20\u001b[0m \u001b[0;34m\u001b[0m\u001b[0m\n\u001b[1;32m     21\u001b[0m \u001b[0;34m\u001b[0m\u001b[0m\n",
      "\u001b[0;32m~/covid_contact_graphs/update_attributes/graphs_attributes/graph_size.py\u001b[0m in \u001b[0;36m__init__\u001b[0;34m(self)\u001b[0m\n\u001b[1;32m     17\u001b[0m     \u001b[0;32mdef\u001b[0m \u001b[0m__init__\u001b[0m\u001b[0;34m(\u001b[0m\u001b[0mself\u001b[0m\u001b[0;34m)\u001b[0m\u001b[0;34m:\u001b[0m\u001b[0;34m\u001b[0m\u001b[0;34m\u001b[0m\u001b[0m\n\u001b[1;32m     18\u001b[0m         \u001b[0;31m# Initilizes the super class\u001b[0m\u001b[0;34m\u001b[0m\u001b[0;34m\u001b[0m\u001b[0;34m\u001b[0m\u001b[0m\n\u001b[0;32m---> 19\u001b[0;31m         \u001b[0mGenericGraphAttribute\u001b[0m\u001b[0;34m.\u001b[0m\u001b[0m__init__\u001b[0m\u001b[0;34m(\u001b[0m\u001b[0mself\u001b[0m\u001b[0;34m,\u001b[0m \u001b[0mattribute_name\u001b[0m\u001b[0;34m,\u001b[0m \u001b[0mstarting_date\u001b[0m\u001b[0;34m)\u001b[0m\u001b[0;34m\u001b[0m\u001b[0;34m\u001b[0m\u001b[0m\n\u001b[0m\u001b[1;32m     20\u001b[0m \u001b[0;34m\u001b[0m\u001b[0m\n\u001b[1;32m     21\u001b[0m \u001b[0;34m\u001b[0m\u001b[0m\n",
      "\u001b[0;31mNameError\u001b[0m: name 'attribute_name' is not defined"
     ]
    }
   ],
   "source": []
  },
  {
   "cell_type": "code",
   "execution_count": null,
   "metadata": {},
   "outputs": [],
   "source": []
  }
 ],
 "metadata": {
  "environment": {
   "name": "common-cpu.m48",
   "type": "gcloud",
   "uri": "gcr.io/deeplearning-platform-release/base-cpu:m48"
  },
  "kernelspec": {
   "display_name": "Python 3",
   "language": "python",
   "name": "python3"
  },
  "language_info": {
   "codemirror_mode": {
    "name": "ipython",
    "version": 3
   },
   "file_extension": ".py",
   "mimetype": "text/x-python",
   "name": "python",
   "nbconvert_exporter": "python",
   "pygments_lexer": "ipython3",
   "version": "3.7.6"
  }
 },
 "nbformat": 4,
 "nbformat_minor": 4
}
